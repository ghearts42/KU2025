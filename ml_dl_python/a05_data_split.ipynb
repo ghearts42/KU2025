{
 "cells": [
  {
   "cell_type": "code",
   "execution_count": 24,
   "id": "c212359f",
   "metadata": {},
   "outputs": [],
   "source": [
    "\n",
    "length = [\n",
    "    25.4,\n",
    "    26.3,\n",
    "    26.5,\n",
    "    29.0,\n",
    "    29.0,\n",
    "    29.7,\n",
    "    29.7,\n",
    "    30.0,\n",
    "    30.0,\n",
    "    30.7,\n",
    "    31.0,\n",
    "    31.0,\n",
    "    31.5,\n",
    "    32.0,\n",
    "    32.0,\n",
    "    32.0,\n",
    "    33.0,\n",
    "    33.0,\n",
    "    33.5,\n",
    "    33.5,\n",
    "    34.0,\n",
    "    34.0,\n",
    "    34.5,\n",
    "    35.0,\n",
    "    35.0,\n",
    "    35.0,\n",
    "    35.0,\n",
    "    36.0,\n",
    "    36.0,\n",
    "    37.0,\n",
    "    38.5,\n",
    "    38.5,\n",
    "    39.5,\n",
    "    41.0,\n",
    "    41.0,\n",
    "    9.8,\n",
    "    10.5,\n",
    "    10.6,\n",
    "    11.0,\n",
    "    11.2,\n",
    "    11.3,\n",
    "    11.8,\n",
    "    11.8,\n",
    "    12.0,\n",
    "    12.2,\n",
    "    12.4,\n",
    "    13.0,\n",
    "    14.3,\n",
    "    15.0,\n",
    "]\n",
    "weight = [\n",
    "    25.4,\n",
    "    26.3,\n",
    "    26.5,\n",
    "    29.0,\n",
    "    29.0,\n",
    "    29.7,\n",
    "    29.7,\n",
    "    30.0,\n",
    "    30.0,\n",
    "    30.7,\n",
    "    31.0,\n",
    "    31.0,\n",
    "    31.5,\n",
    "    32.0,\n",
    "    32.0,\n",
    "    32.0,\n",
    "    33.0,\n",
    "    33.0,\n",
    "    33.5,\n",
    "    33.5,\n",
    "    34.0,\n",
    "    34.0,\n",
    "    34.5,\n",
    "    35.0,\n",
    "    35.0,\n",
    "    35.0,\n",
    "    35.0,\n",
    "    36.0,\n",
    "    36.0,\n",
    "    37.0,\n",
    "    38.5,\n",
    "    38.5,\n",
    "    39.5,\n",
    "    41.0,\n",
    "    41.0,\n",
    "    6.7,\n",
    "    7.5,\n",
    "    7.0,\n",
    "    9.7,\n",
    "    9.8,\n",
    "    8.7,\n",
    "    10.0,\n",
    "    9.9,\n",
    "    9.8,\n",
    "    12.2,\n",
    "    13.4,\n",
    "    12.2,\n",
    "    19.7,\n",
    "    19.9,\n",
    "]\n",
    "label = [\n",
    "    1,\n",
    "    1,\n",
    "    1,\n",
    "    1,\n",
    "    1,\n",
    "    1,\n",
    "    1,\n",
    "    1,\n",
    "    1,\n",
    "    1,\n",
    "    1,\n",
    "    1,\n",
    "    1,\n",
    "    1,\n",
    "    1,\n",
    "    1,\n",
    "    1,\n",
    "    1,\n",
    "    1,\n",
    "    1,\n",
    "    1,\n",
    "    1,\n",
    "    1,\n",
    "    1,\n",
    "    1,\n",
    "    1,\n",
    "    1,\n",
    "    1,\n",
    "    1,\n",
    "    1,\n",
    "    1,\n",
    "    1,\n",
    "    1,\n",
    "    1,\n",
    "    1,\n",
    "    0,\n",
    "    0,\n",
    "    0,\n",
    "    0,\n",
    "    0,\n",
    "    0,\n",
    "    0,\n",
    "    0,\n",
    "    0,\n",
    "    0,\n",
    "    0,\n",
    "    0,\n",
    "    0,\n",
    "    0,\n",
    "]\n",
    "fish_data = [[l, w] for l, w in zip(length, weight)]\n",
    " \n",
    " "
   ]
  },
  {
   "cell_type": "code",
   "execution_count": 25,
   "id": "9a206f94",
   "metadata": {},
   "outputs": [],
   "source": [
    "import numpy as np"
   ]
  },
  {
   "cell_type": "code",
   "execution_count": 26,
   "id": "35714037",
   "metadata": {},
   "outputs": [],
   "source": [
    "input_arr = np.array(fish_data)\n",
    "target_arr = np.array(label)"
   ]
  },
  {
   "cell_type": "code",
   "execution_count": 27,
   "id": "64b2187b",
   "metadata": {},
   "outputs": [],
   "source": [
    "from sklearn.model_selection import train_test_split"
   ]
  },
  {
   "cell_type": "code",
   "execution_count": 28,
   "id": "5c2b731e",
   "metadata": {},
   "outputs": [],
   "source": [
    "train_input, test_input, train_target, test_target = train_test_split(input_arr, target_arr, train_size = 0.8, random_state = 42)"
   ]
  },
  {
   "cell_type": "code",
   "execution_count": 29,
   "id": "b074df5b",
   "metadata": {},
   "outputs": [
    {
     "name": "stdout",
     "output_type": "stream",
     "text": [
      "(39, 2) (39,)\n"
     ]
    }
   ],
   "source": [
    "print(train_input.shape, train_target.shape)"
   ]
  },
  {
   "cell_type": "code",
   "execution_count": 30,
   "id": "44f7d2ab",
   "metadata": {},
   "outputs": [
    {
     "name": "stdout",
     "output_type": "stream",
     "text": [
      "(10, 2) (10,)\n"
     ]
    }
   ],
   "source": [
    "print(test_input.shape, test_target.shape)"
   ]
  },
  {
   "cell_type": "code",
   "execution_count": 31,
   "id": "182a83e4",
   "metadata": {},
   "outputs": [
    {
     "data": {
      "text/plain": [
       "array([[31.5, 31.5],\n",
       "       [29. , 29. ],\n",
       "       [41. , 41. ],\n",
       "       [30. , 30. ],\n",
       "       [29. , 29. ]])"
      ]
     },
     "execution_count": 31,
     "metadata": {},
     "output_type": "execute_result"
    }
   ],
   "source": [
    "train_input[:5, :]"
   ]
  },
  {
   "cell_type": "code",
   "execution_count": 32,
   "id": "10943257",
   "metadata": {},
   "outputs": [
    {
     "name": "stdout",
     "output_type": "stream",
     "text": [
      "1.0\n"
     ]
    }
   ],
   "source": [
    "from sklearn.neighbors import KNeighborsClassifier\n",
    "\n",
    "knn = KNeighborsClassifier()\n",
    "knn.fit(train_input, train_target)\n",
    "print(knn.score(test_input, test_target))"
   ]
  },
  {
   "cell_type": "code",
   "execution_count": 33,
   "id": "e492e62c",
   "metadata": {},
   "outputs": [
    {
     "name": "stdout",
     "output_type": "stream",
     "text": [
      "[1]\n"
     ]
    }
   ],
   "source": [
    "print(knn.predict([[25,150]]))"
   ]
  },
  {
   "cell_type": "code",
   "execution_count": 34,
   "id": "96a815b2",
   "metadata": {},
   "outputs": [
    {
     "name": "stdout",
     "output_type": "stream",
     "text": [
      "[26.76410256 26.33333333] [10.12221439 10.89994903]\n"
     ]
    }
   ],
   "source": [
    "mean = np.mean(train_input,axis= 0)\n",
    "std = np.std(train_input, axis=0)\n",
    "print(mean, std)"
   ]
  },
  {
   "cell_type": "code",
   "execution_count": 35,
   "id": "9dd90073",
   "metadata": {},
   "outputs": [
    {
     "name": "stdout",
     "output_type": "stream",
     "text": [
      "[2.27738056e-16 4.09928501e-16] [1. 1.]\n"
     ]
    }
   ],
   "source": [
    "train_scaled = (train_input - mean) / std\n",
    "mean = np.mean(train_scaled, axis = 0)\n",
    "std = np.std(train_scaled, axis = 0)\n",
    "print(mean, std)"
   ]
  },
  {
   "cell_type": "code",
   "execution_count": 36,
   "id": "9399f588",
   "metadata": {},
   "outputs": [
    {
     "name": "stdout",
     "output_type": "stream",
     "text": [
      "0.7\n",
      "0.7\n"
     ]
    }
   ],
   "source": [
    "knn.fit(train_scaled, train_target)\n",
    "print(knn.score(test_input, test_target)) # 결과 이상할 수 있다\n",
    "\n",
    "test_scaled = (test_input - mean) / std\n",
    "print(knn.score(test_scaled, test_target))"
   ]
  }
 ],
 "metadata": {
  "kernelspec": {
   "display_name": "Python 3",
   "language": "python",
   "name": "python3"
  },
  "language_info": {
   "codemirror_mode": {
    "name": "ipython",
    "version": 3
   },
   "file_extension": ".py",
   "mimetype": "text/x-python",
   "name": "python",
   "nbconvert_exporter": "python",
   "pygments_lexer": "ipython3",
   "version": "3.10.12"
  }
 },
 "nbformat": 4,
 "nbformat_minor": 5
}
