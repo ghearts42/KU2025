{
 "cells": [
  {
   "cell_type": "markdown",
   "id": "decaca15",
   "metadata": {},
   "source": [
    "Broadcasting"
   ]
  },
  {
   "cell_type": "code",
   "execution_count": 13,
   "id": "91e6c5c9",
   "metadata": {},
   "outputs": [],
   "source": [
    "import numpy as np"
   ]
  },
  {
   "cell_type": "code",
   "execution_count": 14,
   "id": "e79aa50f",
   "metadata": {},
   "outputs": [
    {
     "name": "stdout",
     "output_type": "stream",
     "text": [
      "[[ 1.  2.  3.  4.]\n",
      " [ 5.  6.  7.  8.]\n",
      " [ 9. 10. 11. 12.]]\n",
      "[1 2 3 4]\n",
      "[[1]\n",
      " [2]\n",
      " [3]\n",
      " [4]]\n",
      "[[[ 1.  2.  3.  4.]]\n",
      "\n",
      " [[ 5.  6.  7.  8.]]\n",
      "\n",
      " [[ 9. 10. 11. 12.]]]\n"
     ]
    }
   ],
   "source": [
    "a1 = np.linspace(1,12,12).reshape((3,4))\n",
    "a2 = np.arange(1,5)\n",
    "a3 = a2.reshape((4,1))\n",
    "a4 = a1.reshape((3,1,4))\n",
    "\n",
    "print(a1)\n",
    "print(a2)\n",
    "print(a3)\n",
    "print(a4)"
   ]
  },
  {
   "cell_type": "code",
   "execution_count": 15,
   "id": "011dd817",
   "metadata": {},
   "outputs": [
    {
     "name": "stdout",
     "output_type": "stream",
     "text": [
      "[[ 2.  4.  6.  8.]\n",
      " [ 6.  8. 10. 12.]\n",
      " [10. 12. 14. 16.]]\n",
      "(3, 4)\n",
      "[[2 3 4 5]\n",
      " [3 4 5 6]\n",
      " [4 5 6 7]\n",
      " [5 6 7 8]]\n",
      "(4, 4)\n",
      "[[[ 2.  4.  6.  8.]\n",
      "  [ 6.  8. 10. 12.]\n",
      "  [10. 12. 14. 16.]]\n",
      "\n",
      " [[ 6.  8. 10. 12.]\n",
      "  [10. 12. 14. 16.]\n",
      "  [14. 16. 18. 20.]]\n",
      "\n",
      " [[10. 12. 14. 16.]\n",
      "  [14. 16. 18. 20.]\n",
      "  [18. 20. 22. 24.]]]\n",
      "(3, 3, 4)\n"
     ]
    }
   ],
   "source": [
    "print(a1+a2)\n",
    "print((a1+a2).shape)\n",
    "print(a2+a3)\n",
    "print((a2+a3).shape)\n",
    "print(a1+a4)\n",
    "print((a1+a4).shape)"
   ]
  },
  {
   "cell_type": "markdown",
   "id": "a0f231bc",
   "metadata": {},
   "source": [
    "Indexing"
   ]
  },
  {
   "cell_type": "code",
   "execution_count": 16,
   "id": "b300f971",
   "metadata": {},
   "outputs": [
    {
     "name": "stdout",
     "output_type": "stream",
     "text": [
      "[  1   4   9  16  25  36  49  64  81 100] [ 9 16 25 36 49 64 81]\n",
      "100, 81, 64, 10000, 36, 10000, 13, 10000, 4, 1, "
     ]
    }
   ],
   "source": [
    "a1 = np.arange(1, 10+1) ** 2\n",
    "a2 = a1[2:9]\n",
    "print(a1,a2)\n",
    "a1[3] = a1[1] + a1[2]\n",
    "a2[:5:2] = 10_000\n",
    "for i in range(len(a1)):\n",
    "    print(a1[(i+1)*-1], end=', ')"
   ]
  },
  {
   "cell_type": "code",
   "execution_count": 17,
   "id": "6eabdd37",
   "metadata": {},
   "outputs": [
    {
     "name": "stdout",
     "output_type": "stream",
     "text": [
      "[[[ 0  1  2  3]\n",
      "  [ 1  2  3  4]\n",
      "  [ 2  3  4  5]\n",
      "  [ 3  4  5  6]\n",
      "  [ 4  5  6  7]]\n",
      "\n",
      " [[ 1  2  3  4]\n",
      "  [-1 -1 -1  5]\n",
      "  [ 3  4  5  6]\n",
      "  [-1 -1 -1  7]\n",
      "  [ 5  6  7  8]]]\n",
      "[[1 2 3]\n",
      " [3 4 5]]\n",
      "[[-1 -1 -1]\n",
      " [-1 -1 -1]]\n"
     ]
    }
   ],
   "source": [
    "a1 = np.fromfunction(lambda x, y, z : x+ y+ z,(2,5,4),dtype=np.int64)\n",
    "a2 = a1[:,1::2,:3]\n",
    "\n",
    "a2[1, ...] = -1\n",
    "\n",
    "print(a1)\n",
    "\n",
    "for ar in a2:\n",
    "    print(ar)"
   ]
  },
  {
   "cell_type": "code",
   "execution_count": 18,
   "id": "8167fed7",
   "metadata": {},
   "outputs": [
    {
     "name": "stdout",
     "output_type": "stream",
     "text": [
      "[[[0 1 2 3]\n",
      "  [1 2 3 4]\n",
      "  [2 3 4 5]\n",
      "  [3 4 5 6]\n",
      "  [4 5 6 7]]\n",
      "\n",
      " [[1 2 3 4]\n",
      "  [2 3 4 5]\n",
      "  [3 4 5 6]\n",
      "  [4 5 6 7]\n",
      "  [5 6 7 8]]]\n",
      "[[[ 10.  20.  30.  40.]\n",
      "  [ 50.  60.  70.  80.]\n",
      "  [ 90. 100. 110. 120.]\n",
      "  [130. 140. 150. 160.]\n",
      "  [170. 180. 190. 200.]]]\n"
     ]
    }
   ],
   "source": [
    "a1 = np.fromfunction(lambda x, y, z: x + y + z, (2, 5, 4), dtype=np.int64)\n",
    "a2 = np.arange(1, a1.size / 2 + 1).reshape(1, 5, 4) * 10\n",
    "print(a1)\n",
    "print(a2)"
   ]
  },
  {
   "cell_type": "code",
   "execution_count": null,
   "id": "96302336",
   "metadata": {},
   "outputs": [
    {
     "name": "stdout",
     "output_type": "stream",
     "text": [
      "[[  0.   1.   2.   3.]\n",
      " [  1.   2.   3.   4.]\n",
      " [  2.   3.   4.   5.]\n",
      " [  3.   4.   5.   6.]\n",
      " [  4.   5.   6.   7.]\n",
      " [ 10.  20.  30.  40.]\n",
      " [ 50.  60.  70.  80.]\n",
      " [ 90. 100. 110. 120.]\n",
      " [130. 140. 150. 160.]\n",
      " [170. 180. 190. 200.]]\n",
      "[[  0.   1.   2.   3.  10.  20.  30.  40.]\n",
      " [  1.   2.   3.   4.  50.  60.  70.  80.]\n",
      " [  2.   3.   4.   5.  90. 100. 110. 120.]\n",
      " [  3.   4.   5.   6. 130. 140. 150. 160.]\n",
      " [  4.   5.   6.   7. 170. 180. 190. 200.]]\n",
      "[[[  0.   1.   2.   3.]\n",
      "  [  1.   2.   3.   4.]\n",
      "  [  2.   3.   4.   5.]\n",
      "  [  3.   4.   5.   6.]\n",
      "  [  4.   5.   6.   7.]]\n",
      "\n",
      " [[  1.   2.   3.   4.]\n",
      "  [  2.   3.   4.   5.]\n",
      "  [  3.   4.   5.   6.]\n",
      "  [  4.   5.   6.   7.]\n",
      "  [  5.   6.   7.   8.]]\n",
      "\n",
      " [[ 10.  20.  30.  40.]\n",
      "  [ 50.  60.  70.  80.]\n",
      "  [ 90. 100. 110. 120.]\n",
      "  [130. 140. 150. 160.]\n",
      "  [170. 180. 190. 200.]]]\n",
      "[[  0.   1.   2.   3.  10.  20.  30.  40.]\n",
      " [  1.   2.   3.   4.  50.  60.  70.  80.]\n",
      " [  2.   3.   4.   5.  90. 100. 110. 120.]\n",
      " [  3.   4.   5.   6. 130. 140. 150. 160.]\n",
      " [  4.   5.   6.   7. 170. 180. 190. 200.]]\n"
     ]
    }
   ],
   "source": [
    "a3 = np.vstack((a1[0, ...], a2[0, ...]))\n",
    "print(a3)\n",
    "a4 = np.hstack((a1[0, ...], a2[0, ...]))\n",
    "print(a4)\n",
    "a5 = np.concatenate((a1, a2), 0)\n",
    "print(a5)\n",
    "a6 = np.concatenate((a1[0, ...], a2[0, ...]), 0)  # hstack\n",
    "a7 = np.concatenate((a1[0, ...], a2[0, ...]), 1)  # vstack\n",
    "print(a6)\n",
    "print(a7)"
   ]
  },
  {
   "cell_type": "code",
   "execution_count": null,
   "id": "5dd73380",
   "metadata": {},
   "outputs": [],
   "source": [
    "a1 = np.arange(1,5)\n",
    "a2 ="
   ]
  }
 ],
 "metadata": {
  "kernelspec": {
   "display_name": "Python 3",
   "language": "python",
   "name": "python3"
  },
  "language_info": {
   "codemirror_mode": {
    "name": "ipython",
    "version": 3
   },
   "file_extension": ".py",
   "mimetype": "text/x-python",
   "name": "python",
   "nbconvert_exporter": "python",
   "pygments_lexer": "ipython3",
   "version": "3.10.12"
  }
 },
 "nbformat": 4,
 "nbformat_minor": 5
}
