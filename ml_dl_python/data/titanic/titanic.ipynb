{
 "cells": [
  {
   "cell_type": "code",
   "execution_count": 12,
   "id": "a7c4c012",
   "metadata": {},
   "outputs": [],
   "source": [
    "import numpy as np\n",
    "import pandas as pd\n",
    "from sklearn.model_selection import train_test_split\n",
    "from sklearn.ensemble import RandomForestClassifier\n",
    "from sklearn.metrics import accuracy_score\n",
    "from sklearn.preprocessing import LabelEncoder\n",
    "import matplotlib.pyplot as plt"
   ]
  },
  {
   "cell_type": "markdown",
   "id": "f85cb099",
   "metadata": {},
   "source": [
    "Survived: 생존 여부. 0은 사망, 1은 생존\n",
    "0. PassengerId: 승객의 고유 아이디\n",
    "1. Pclass: 티켓의 클래스. 1은 1등석, 2는 2등석, 3은 3등석\n",
    "0. Name: 승객의 이름\n",
    "1. Sex: 승객의 성별\n",
    "1. Age: 승객의 나이\n",
    "0. SibSp: 함께 탑승한 형제자매 또는 배우자의 수\n",
    "0. Parch: 함께 탑승한 부모 또는 자녀의 수\n",
    "0. Ticket: 티켓 번호\n",
    "0. Fare: 승객이 지불한 요금\n",
    "0. Cabin: 승객이 머무른 객실 번호\n",
    "0. Embarked: 승객이 탑승한 항구. C는 Cherbourg, Q는 Queenstown, S는 Southampton을 의미."
   ]
  },
  {
   "cell_type": "code",
   "execution_count": 13,
   "id": "cdbf7531",
   "metadata": {},
   "outputs": [],
   "source": [
    "trainData = pd.read_csv(\"/home/hjpubuntu22045/korea_c/ml_dl_python/data/titanic/train.csv\")\n",
    "testData = pd.read_csv(\"/home/hjpubuntu22045/korea_c/ml_dl_python/data/titanic/test.csv\")"
   ]
  },
  {
   "cell_type": "code",
   "execution_count": 14,
   "id": "dabcf515",
   "metadata": {},
   "outputs": [
    {
     "name": "stderr",
     "output_type": "stream",
     "text": [
      "/tmp/ipykernel_195490/3921818730.py:2: SettingWithCopyWarning: \n",
      "A value is trying to be set on a copy of a slice from a DataFrame\n",
      "\n",
      "See the caveats in the documentation: https://pandas.pydata.org/pandas-docs/stable/user_guide/indexing.html#returning-a-view-versus-a-copy\n",
      "  df.dropna(inplace=True)\n"
     ]
    },
    {
     "name": "stdout",
     "output_type": "stream",
     "text": [
      "0.6713286713286714\n"
     ]
    }
   ],
   "source": [
    "df = trainData[[\"Pclass\", \"Age\", \"SibSp\", \"Fare\", \"Survived\"]]\n",
    "df.dropna(inplace=True)\n",
    "df_input = df.iloc[:, :-1].values\n",
    "df_target = df.iloc[:, -1].values\n",
    "from sklearn.model_selection import train_test_split\n",
    "\n",
    "X_train, X_test, y_train, y_test = train_test_split(df_input, df_target, test_size=0.2)\n",
    "from xgboost import XGBClassifier\n",
    "\n",
    "xgb = XGBClassifier(tree_method=\"hist\")\n",
    "xgb.fit(X_train, y_train)\n",
    "from sklearn.metrics import accuracy_score\n",
    "\n",
    "y_pred = xgb.predict(X_test)\n",
    "accurate = accuracy_score(y_test, y_pred)\n",
    "print(accurate)"
   ]
  },
  {
   "cell_type": "code",
   "execution_count": 33,
   "id": "58cae852",
   "metadata": {},
   "outputs": [
    {
     "name": "stderr",
     "output_type": "stream",
     "text": [
      "/tmp/ipykernel_195490/3515043486.py:8: FutureWarning: A value is trying to be set on a copy of a DataFrame or Series through chained assignment using an inplace method.\n",
      "The behavior will change in pandas 3.0. This inplace method will never work because the intermediate object on which we are setting values always behaves as a copy.\n",
      "\n",
      "For example, when doing 'df[col].method(value, inplace=True)', try using 'df.method({col: value}, inplace=True)' or df[col] = df[col].method(value) instead, to perform the operation inplace on the original object.\n",
      "\n",
      "\n",
      "  df['Age'].fillna(df['Age'].median(), inplace=True)\n",
      "/tmp/ipykernel_195490/3515043486.py:9: FutureWarning: A value is trying to be set on a copy of a DataFrame or Series through chained assignment using an inplace method.\n",
      "The behavior will change in pandas 3.0. This inplace method will never work because the intermediate object on which we are setting values always behaves as a copy.\n",
      "\n",
      "For example, when doing 'df[col].method(value, inplace=True)', try using 'df.method({col: value}, inplace=True)' or df[col] = df[col].method(value) instead, to perform the operation inplace on the original object.\n",
      "\n",
      "\n",
      "  df['Embarked'].fillna(df['Embarked'].mode()[0], inplace=True)\n"
     ]
    },
    {
     "name": "stdout",
     "output_type": "stream",
     "text": [
      "모델 정확도: 0.8380\n"
     ]
    }
   ],
   "source": [
    "# 데이터 불러오기 (예: train.csv)\n",
    "df = pd.read_csv('/home/hjpubuntu22045/korea_c/ml_dl_python/data/titanic/train.csv')\n",
    "\n",
    "# 불필요한 열 제거\n",
    "df = df.drop(['PassengerId', 'Name', 'Ticket', 'Cabin'], axis=1)\n",
    "\n",
    "# 결측치 처리\n",
    "df['Age'].fillna(df['Age'].median(), inplace=True)\n",
    "df['Embarked'].fillna(df['Embarked'].mode()[0], inplace=True)\n",
    "\n",
    "# 범주형 데이터 인코딩\n",
    "le = LabelEncoder()\n",
    "df['Sex'] = le.fit_transform(df['Sex'])  # male=1, female=0\n",
    "df['Embarked'] = le.fit_transform(df['Embarked'])  # C=0, Q=1, S=2 등\n",
    "\n",
    "# 특성과 라벨 분리\n",
    "X = df.drop('Survived', axis=1)\n",
    "y = df['Survived']\n",
    "\n",
    "# 학습용/검증용 데이터 분리\n",
    "# X_train, X_test, y_train, y_test = train_test_split(X, y, test_size=0.2, random_state=42)\n",
    "X_train, X_test, y_train, y_test = train_test_split(X, y, test_size=0.2)\n",
    "\n",
    "# 모델 학습\n",
    "# model = RandomForestClassifier(n_estimators=100, random_state=42)\n",
    "model = RandomForestClassifier(n_estimators=100)\n",
    "model.fit(X_train, y_train)\n",
    "\n",
    "# 예측 및 정확도 평가\n",
    "y_pred = model.predict(X_test)\n",
    "accuracy = accuracy_score(y_test, y_pred)\n",
    "print(f'모델 정확도: {accuracy:.4f}')"
   ]
  }
 ],
 "metadata": {
  "kernelspec": {
   "display_name": "Python 3",
   "language": "python",
   "name": "python3"
  },
  "language_info": {
   "codemirror_mode": {
    "name": "ipython",
    "version": 3
   },
   "file_extension": ".py",
   "mimetype": "text/x-python",
   "name": "python",
   "nbconvert_exporter": "python",
   "pygments_lexer": "ipython3",
   "version": "3.10.12"
  }
 },
 "nbformat": 4,
 "nbformat_minor": 5
}
