{
 "cells": [
  {
   "cell_type": "code",
   "execution_count": 6,
   "id": "d2932a34",
   "metadata": {},
   "outputs": [],
   "source": [
    "import numpy as np\n",
    "\n",
    "al = np.array([2,3,4])"
   ]
  },
  {
   "cell_type": "code",
   "execution_count": 7,
   "id": "1c3a0f00",
   "metadata": {},
   "outputs": [
    {
     "name": "stdout",
     "output_type": "stream",
     "text": [
      "int64\n",
      "1\n",
      "(3,)\n",
      "8\n",
      "3\n"
     ]
    }
   ],
   "source": [
    "print(al.dtype)\n",
    "print(al.ndim)\n",
    "print(al.shape)\n",
    "print(al.itemsize)\n",
    "print(al.size)"
   ]
  },
  {
   "cell_type": "code",
   "execution_count": 8,
   "id": "5167e7dc",
   "metadata": {},
   "outputs": [
    {
     "data": {
      "text/plain": [
       "array([2, 3, 4])"
      ]
     },
     "execution_count": 8,
     "metadata": {},
     "output_type": "execute_result"
    }
   ],
   "source": [
    "al"
   ]
  },
  {
   "cell_type": "code",
   "execution_count": 9,
   "id": "3a64edef",
   "metadata": {},
   "outputs": [],
   "source": [
    "a2 = np.array([[2.0, 3, 4.0], [7, 8, 9], [10, 11, 12]], dtype=np.int8)"
   ]
  },
  {
   "cell_type": "code",
   "execution_count": 10,
   "id": "269837a8",
   "metadata": {},
   "outputs": [
    {
     "name": "stdout",
     "output_type": "stream",
     "text": [
      "int8\n",
      "2\n",
      "(3, 3)\n",
      "1\n",
      "9\n"
     ]
    }
   ],
   "source": [
    "print(a2.dtype)\n",
    "print(a2.ndim)\n",
    "print(a2.shape)\n",
    "print(a2.itemsize)\n",
    "print(a2.size)"
   ]
  },
  {
   "cell_type": "code",
   "execution_count": 11,
   "id": "57c6afa0",
   "metadata": {},
   "outputs": [],
   "source": [
    "a3 = [0 for _ in range(600)]"
   ]
  },
  {
   "cell_type": "code",
   "execution_count": 12,
   "id": "844eed05",
   "metadata": {},
   "outputs": [
    {
     "name": "stdout",
     "output_type": "stream",
     "text": [
      "int64\n",
      "4\n",
      "(12, 5, 2, 5)\n",
      "8\n",
      "600\n"
     ]
    }
   ],
   "source": [
    "a3 = np.array(a3, dtype=np.int64)\n",
    "a3 = a3.reshape((12, 5, 2, 5))\n",
    "print(a3.dtype)\n",
    "print(a3.ndim)\n",
    "print(a3.shape)\n",
    "print(a3.itemsize)\n",
    "print(a3.size)"
   ]
  },
  {
   "cell_type": "code",
   "execution_count": 13,
   "id": "8374fd5a",
   "metadata": {},
   "outputs": [
    {
     "name": "stdout",
     "output_type": "stream",
     "text": [
      "[ 0  1  2  3  4  5  6  7  8  9 10 11 12 13 14 15 16 17 18 19 20 21 22 23\n",
      " 24 25 26]\n",
      "[ 1.   1.3  1.6  1.9  2.2  2.5  2.8  3.1  3.4  3.7  4.   4.3  4.6  4.9\n",
      "  5.2  5.5  5.8  6.1  6.4  6.7  7.   7.3  7.6  7.9  8.2  8.5  8.8  9.1\n",
      "  9.4  9.7 10. ]\n",
      "[  1.           4.41176471   7.82352941  11.23529412  14.64705882\n",
      "  18.05882353  21.47058824  24.88235294  28.29411765  31.70588235\n",
      "  35.11764706  38.52941176  41.94117647  45.35294118  48.76470588\n",
      "  52.17647059  55.58823529  59.          62.41176471  65.82352941\n",
      "  69.23529412  72.64705882  76.05882353  79.47058824  82.88235294\n",
      "  86.29411765  89.70588235  93.11764706  96.52941176  99.94117647\n",
      " 103.35294118 106.76470588 110.17647059 113.58823529 117.        ]\n"
     ]
    }
   ],
   "source": [
    "ar1 = np.arange(27)  # [0, 27)\n",
    "print(ar1)\n",
    "ar2 = np.arange(1, 10.0001, 0.3)  # [1, 10)\n",
    "print(ar2)\n",
    "ar3 = np.linspace(1, 117, 35)\n",
    "print(ar3)"
   ]
  },
  {
   "cell_type": "code",
   "execution_count": null,
   "id": "618e2511",
   "metadata": {},
   "outputs": [],
   "source": [
    "np_list = []\n",
    "np_list.append(np.zeros((3,4,5), dtype=np.int8))\n",
    "np_list.append(np.full((3,4,5), 132, dtype=np.int8))\n",
    "np_list.append(np.eye(5, k = 1))\n",
    "np_list.append(np.eye(5, k = 0))\n",
    "np_list.append(np.diag(np_list[2], k = 1))\n",
    "for npl in np_list:\n",
    "    print(npl)"
   ]
  }
 ],
 "metadata": {
  "kernelspec": {
   "display_name": "Python 3",
   "language": "python",
   "name": "python3"
  },
  "language_info": {
   "codemirror_mode": {
    "name": "ipython",
    "version": 3
   },
   "file_extension": ".py",
   "mimetype": "text/x-python",
   "name": "python",
   "nbconvert_exporter": "python",
   "pygments_lexer": "ipython3",
   "version": "3.10.12"
  }
 },
 "nbformat": 4,
 "nbformat_minor": 5
}
