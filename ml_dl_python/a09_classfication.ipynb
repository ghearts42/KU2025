{
 "cells": [
  {
   "cell_type": "code",
   "execution_count": null,
   "id": "4f2f21d7",
   "metadata": {},
   "outputs": [],
   "source": [
    "import pandas as pd\n",
    "\n",
    "fish = pd.read_csv(\"/home/hjpubuntu22045/korea_c/ml_dl_python/data/fish_csv_data.csv\")"
   ]
  },
  {
   "cell_type": "code",
   "execution_count": null,
   "id": "405dffb7",
   "metadata": {},
   "outputs": [],
   "source": [
    "\n",
    "fish.head()"
   ]
  }
 ],
 "metadata": {
  "language_info": {
   "name": "python"
  }
 },
 "nbformat": 4,
 "nbformat_minor": 5
}
